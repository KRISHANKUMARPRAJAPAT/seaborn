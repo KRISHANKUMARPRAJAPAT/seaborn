{
 "cells": [
  {
   "cell_type": "markdown",
   "id": "d9e06cc5-d3a1-40ad-99cd-316433d84f65",
   "metadata": {},
   "source": [
    "## Que 1: Name any five plots that we can plot using the Seaborn library. Also, state the uses of each plot."
   ]
  },
  {
   "cell_type": "markdown",
   "id": "0462114d-3842-4ed1-a687-9911d85dd20e",
   "metadata": {},
   "source": [
    "# Ans: 1\n",
    "\n",
    "here are five popular plots that can be created using Seaborn library along with their uses:\n",
    "\n",
    "**1.Scatter plot:** Scatter plot is a type of plot that displays the relationship between two variables by plotting their values on a two-dimensional coordinate system. It is useful for visualizing the correlation between two variables, and identifying any outliers or patterns in the data.\n",
    "\n",
    "**2.Line plot:** Line plot is a type of plot that displays the trend of a variable over time or across different categories. It is useful for visualizing the change in a variable over a continuous range or across different categories.\n",
    "\n",
    "**3.Histogram:** Histogram is a type of plot that displays the distribution of a variable by dividing the data into intervals and displaying the frequency of observations within each interval. It is useful for identifying the shape of the distribution, and detecting any outliers or gaps in the data.\n",
    "\n",
    "**4.Bar plot:** Bar plot is a type of plot that displays the frequency or proportion of categorical data using rectangular bars. It is useful for comparing the frequency or proportion of different categories, and identifying any trends or patterns in the data.\n",
    "\n",
    "**5.Heatmap:** Heatmap is a type of plot that displays the correlation or relationship between multiple variables using a color-coded matrix. It is useful for identifying patterns or clusters in the data, and detecting any outliers or gaps in the data."
   ]
  },
  {
   "cell_type": "code",
   "execution_count": null,
   "id": "70ffa496-9c35-4f81-94b4-90307598cc46",
   "metadata": {},
   "outputs": [],
   "source": []
  },
  {
   "cell_type": "markdown",
   "id": "0cb025b9-9cdd-4c89-a55f-2fa9a6652a1f",
   "metadata": {},
   "source": [
    "## Que 2: Load the \"fmri\" dataset using the load_dataset function of seaborn. Plot a line plot using x = \"timepoint\" and y = \"signal\" for different events and regions.\n",
    "\n",
    "**Note: timepoint, signal, event, and region are columns in the fmri dataset.**"
   ]
  },
  {
   "cell_type": "code",
   "execution_count": null,
   "id": "e9a9ff9a-eacc-445f-9c2a-739a3a338ac7",
   "metadata": {},
   "outputs": [],
   "source": [
    "# Ans: 2 \n",
    "\n",
    "import seaborn as sns\n",
    "\n",
    "# Load the \"fmri\" dataset\n",
    "fmri = sns.load_dataset(\"fmri\")\n",
    "\n",
    "# Create a line plot using \"timepoint\" as x-axis and \"signal\" as y-axis,\n",
    "# with different lines for each \"event\" and different colors for each \"region\"\n",
    "sns.lineplot(x=\"timepoint\", y=\"signal\", hue=\"event\", style=\"region\", data=fmri)"
   ]
  },
  {
   "cell_type": "code",
   "execution_count": null,
   "id": "1acd1f20-b1db-4d17-be38-02365881acde",
   "metadata": {},
   "outputs": [],
   "source": []
  },
  {
   "cell_type": "markdown",
   "id": "7d7d69e3-c64e-426c-8789-79d2003e5a2c",
   "metadata": {},
   "source": [
    "## Que 3: Load the \"titanic\" dataset using the load_dataset function of seaborn. Plot two box plots using x ='pclass', y = 'age' and y = 'fare'.\n",
    "\n",
    "**Note: pclass, age, and fare are columns in the titanic dataset.**"
   ]
  },
  {
   "cell_type": "code",
   "execution_count": null,
   "id": "e9ff7903-5aff-45f0-8a3a-ac7d3bd6df0f",
   "metadata": {},
   "outputs": [],
   "source": [
    "#Ans: 3\n",
    "\n",
    "# Load the \"titanic\" dataset\n",
    "titanic = sns.load_dataset(\"titanic\")\n",
    "\n",
    "# Create a box plot for 'age' variable across different passenger classes\n",
    "sns.boxplot(x='pclass', y='age', data=titanic)\n",
    "\n",
    "# Create a box plot for 'fare' variable across different passenger classes\n",
    "sns.boxplot(x='pclass', y='fare', data=titanic)"
   ]
  },
  {
   "cell_type": "code",
   "execution_count": null,
   "id": "83d330c2-a2fd-4589-a752-f666d6de33f7",
   "metadata": {},
   "outputs": [],
   "source": []
  },
  {
   "cell_type": "markdown",
   "id": "5ba1a96b-35de-405a-904d-8dfd40eb7d3b",
   "metadata": {},
   "source": [
    "## Que 4: Use the \"diamonds\" dataset from seaborn to plot a histogram for the 'price' column. Use the hue parameter for the 'cut' column of the diamonds dataset."
   ]
  },
  {
   "cell_type": "code",
   "execution_count": null,
   "id": "12ff9d16-a4f2-4a0e-9813-186d06e18964",
   "metadata": {},
   "outputs": [],
   "source": [
    "# Ans:4\n",
    "\n",
    "# Load the \"diamonds\" dataset\n",
    "diamonds = sns.load_dataset(\"diamonds\")\n",
    "\n",
    "# Create a histogram of the 'price' variable, with different colors for each 'cut'\n",
    "sns.histplot(data=diamonds, x='price', hue='cut', multiple='stack')"
   ]
  },
  {
   "cell_type": "code",
   "execution_count": null,
   "id": "abaded02-60ab-4439-9d26-cc24314290c3",
   "metadata": {},
   "outputs": [],
   "source": []
  },
  {
   "cell_type": "markdown",
   "id": "8901ae43-4a9f-4796-947e-3a78ebd1b000",
   "metadata": {},
   "source": [
    "## Que 5: Use the \"iris\" dataset from seaborn to plot a pair plot. Use the hue parameter for the \"species\" column of the iris dataset."
   ]
  },
  {
   "cell_type": "code",
   "execution_count": null,
   "id": "2200eb2a-d8fa-4d38-8dff-381015e341c6",
   "metadata": {},
   "outputs": [],
   "source": [
    "# Ans: 5\n",
    "\n",
    "# Load the \"iris\" dataset\n",
    "iris = sns.load_dataset(\"iris\")\n",
    "\n",
    "# Create a pair plot of the variables, with different colors for each 'species'\n",
    "sns.pairplot(data=iris, hue='species')"
   ]
  },
  {
   "cell_type": "code",
   "execution_count": null,
   "id": "aba912b0-3291-46b7-a79f-664ac02d8ab4",
   "metadata": {},
   "outputs": [],
   "source": []
  },
  {
   "cell_type": "markdown",
   "id": "94679273-b36b-42be-86b1-3a962c9204de",
   "metadata": {},
   "source": [
    "## Que 6: Use the \"flights\" dataset from seaborn to plot a heatmap."
   ]
  },
  {
   "cell_type": "code",
   "execution_count": null,
   "id": "387bc532-5f62-4c7c-993f-d0d4f19ec501",
   "metadata": {},
   "outputs": [],
   "source": [
    "# Ans: 6\n",
    "\n",
    "# Load the \"flights\" dataset\n",
    "flights = sns.load_dataset(\"flights\")\n",
    "\n",
    "# Reshape the data into a pivot table\n",
    "flights_pivot = flights.pivot(\"month\", \"year\", \"passengers\")\n",
    "\n",
    "# Create a heatmap of the pivot table\n",
    "sns.heatmap(flights_pivot, cmap=\"YlGnBu\")"
   ]
  },
  {
   "cell_type": "code",
   "execution_count": null,
   "id": "dba4e905-048c-4558-83a5-8346985880c5",
   "metadata": {},
   "outputs": [],
   "source": []
  }
 ],
 "metadata": {
  "kernelspec": {
   "display_name": "Python 3 (ipykernel)",
   "language": "python",
   "name": "python3"
  },
  "language_info": {
   "codemirror_mode": {
    "name": "ipython",
    "version": 3
   },
   "file_extension": ".py",
   "mimetype": "text/x-python",
   "name": "python",
   "nbconvert_exporter": "python",
   "pygments_lexer": "ipython3",
   "version": "3.10.8"
  }
 },
 "nbformat": 4,
 "nbformat_minor": 5
}
